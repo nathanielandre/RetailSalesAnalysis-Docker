{
 "cells": [
  {
   "cell_type": "code",
   "execution_count": 12,
   "metadata": {},
   "outputs": [],
   "source": [
    "import psycopg2\n",
    "import os"
   ]
  },
  {
   "cell_type": "code",
   "execution_count": 13,
   "metadata": {},
   "outputs": [],
   "source": [
    "# Define connection details to PostgreSQL running inside Docker\n",
    "HOST = 'localhost'  # Host of the PostgreSQL container\n",
    "PORT = '5434'       # Port for PostgreSQL container\n",
    "USER = 'airflow'    # PostgreSQL user\n",
    "PASSWORD = 'airflow'  # PostgreSQL password\n",
    "DATABASE = 'airflow'  # PostgreSQL database"
   ]
  },
  {
   "cell_type": "code",
   "execution_count": 14,
   "metadata": {},
   "outputs": [],
   "source": [
    "conn = psycopg2.connect(\n",
    "    host=HOST,\n",
    "    port=PORT,\n",
    "    user=USER,\n",
    "    password=PASSWORD,\n",
    "    dbname=DATABASE\n",
    "    )"
   ]
  },
  {
   "cell_type": "code",
   "execution_count": 15,
   "metadata": {},
   "outputs": [],
   "source": [
    "with open(\"create_table_m3.sql\", 'r') as file:\n",
    "    sql = file.read()"
   ]
  },
  {
   "cell_type": "code",
   "execution_count": 16,
   "metadata": {},
   "outputs": [
    {
     "name": "stdout",
     "output_type": "stream",
     "text": [
      "Table 'table_m3' created successfully.\n"
     ]
    }
   ],
   "source": [
    "cur = conn.cursor()\n",
    "cur.execute(sql)\n",
    "conn.commit()\n",
    "cur.close()\n",
    "conn.close()\n",
    "print(\"Table 'table_m3' created successfully.\")"
   ]
  },
  {
   "cell_type": "code",
   "execution_count": 17,
   "metadata": {},
   "outputs": [],
   "source": [
    "conn = psycopg2.connect(\n",
    "    host=HOST,\n",
    "    port=PORT,\n",
    "    user=USER,\n",
    "    password=PASSWORD,\n",
    "    dbname=DATABASE\n",
    "    )"
   ]
  },
  {
   "cell_type": "code",
   "execution_count": 18,
   "metadata": {},
   "outputs": [],
   "source": [
    "with open(\"load_table_m3.sql\", 'r') as file:\n",
    "    sql = file.read()"
   ]
  },
  {
   "cell_type": "code",
   "execution_count": 19,
   "metadata": {},
   "outputs": [
    {
     "name": "stdout",
     "output_type": "stream",
     "text": [
      "Table 'table_m3' loaded successfully.\n"
     ]
    }
   ],
   "source": [
    "cur = conn.cursor()\n",
    "cur.execute(sql)\n",
    "conn.commit()\n",
    "cur.close()\n",
    "conn.close()\n",
    "print(\"Table 'table_m3' loaded successfully.\")"
   ]
  }
 ],
 "metadata": {
  "kernelspec": {
   "display_name": "base",
   "language": "python",
   "name": "python3"
  },
  "language_info": {
   "codemirror_mode": {
    "name": "ipython",
    "version": 3
   },
   "file_extension": ".py",
   "mimetype": "text/x-python",
   "name": "python",
   "nbconvert_exporter": "python",
   "pygments_lexer": "ipython3",
   "version": "3.9.18"
  }
 },
 "nbformat": 4,
 "nbformat_minor": 2
}
